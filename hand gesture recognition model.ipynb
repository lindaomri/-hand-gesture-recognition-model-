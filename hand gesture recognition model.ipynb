{
 "cells": [
  {
   "cell_type": "code",
   "execution_count": null,
   "id": "b803a0ce-8407-481f-abd7-58eb8c5ff069",
   "metadata": {},
   "outputs": [],
   "source": [
    "!pip install tensorflow\n",
    "!pip install --upgrade keras\n",
    "!pip uninstall keras\n",
    "\n",
    "\n"
   ]
  },
  {
   "cell_type": "code",
   "execution_count": null,
   "id": "36e20167-ca85-4f8e-8d4c-67331d89f2f2",
   "metadata": {},
   "outputs": [],
   "source": [
    "!pip install keras"
   ]
  },
  {
   "cell_type": "code",
   "execution_count": null,
   "id": "fd1624a5-bfaa-4b20-af56-f12d353b201b",
   "metadata": {},
   "outputs": [],
   "source": [
    "import os\n",
    "import numpy as np\n",
    "import pandas as pd\n",
    "import matplotlib.pyplot as plt # plotting\n",
    "import cv2\n",
    "import tensorflow as tf\n",
    "from sklearn.model_selection import train_test_split\n",
    "from keras.preprocessing.image import ImageDataGenerator\n",
    "\n",
    "from tensorflow import keras\n",
    "from keras.models import Sequential\n",
    "from keras.layers import Dense, Dropout, Flatten\n",
    "from keras.layers import Conv2D, MaxPooling2D"
   ]
  },
  {
   "cell_type": "code",
   "execution_count": null,
   "id": "7740a257-4460-436e-9f57-7ff6c7550999",
   "metadata": {},
   "outputs": [],
   "source": [
    "dir = \"C:\\Users\\user\\Desktop\\hand_desture_recognition\\leapGestRecog\"\n"
   ]
  },
  {
   "cell_type": "code",
   "execution_count": null,
   "id": "4357e8c0-77d4-4e76-82bc-e9aa1770e527",
   "metadata": {},
   "outputs": [],
   "source": [
    "images = []\n",
    "labels = []\n",
    "for directory in os.listdir(dir):\n",
    "  for subDir in os.listdir(os.path.join(dir,directory)):\n",
    "    for img in os.listdir(os.path.join(dir, directory, subDir)):\n",
    "      img_path = os.path.join(dir, directory, subDir, img)\n",
    "      images.append(img_path)\n",
    "      labels.append(subDir)"
   ]
  },
  {
   "cell_type": "code",
   "execution_count": null,
   "id": "eac41fae-28a8-40ab-b660-71e1fedd819a",
   "metadata": {},
   "outputs": [],
   "source": [
    "Iseries = pd.Series(images, name=\"Images\")\n",
    "Lseries = pd.Series(labels, name=\"labels\")\n",
    "hand_gesture_data = pd.concat([Iseries, Lseries], axis=1)\n",
    "hand_gesture_df = pd.DataFrame(hand_gesture_data)"
   ]
  },
  {
   "cell_type": "code",
   "execution_count": null,
   "id": "274e09cf-50f2-4d92-9332-580e5f2ba787",
   "metadata": {},
   "outputs": [],
   "source": [
    "print(hand_gesture_df.head())"
   ]
  },
  {
   "cell_type": "code",
   "execution_count": null,
   "id": "61df0df3-f9c4-4fd0-bd28-e3ff318b3144",
   "metadata": {},
   "outputs": [],
   "source": [
    "pd.Series(labels).value_counts()"
   ]
  },
  {
   "cell_type": "code",
   "execution_count": null,
   "id": "116fc304-3287-4e89-84f7-153b0bf41fb7",
   "metadata": {},
   "outputs": [],
   "source": [
    "X_train, X_test = train_test_split(hand_gesture_df, test_size=0.2, random_state=42)\n",
    "train_set, val_set = train_test_split(hand_gesture_df, test_size=0.3, random_state=42)"
   ]
  },
  {
   "cell_type": "code",
   "execution_count": null,
   "id": "9fba7dbb-f5ae-4218-9040-73334bd1697a",
   "metadata": {},
   "outputs": [],
   "source": [
    "image_gen = ImageDataGenerator(preprocessing_function= tf.keras.applications.mobilenet_v2.preprocess_input)\n",
    "train = image_gen.flow_from_dataframe(dataframe= train_set,x_col=\"Images\",y_col=\"labels\",\n",
    "                                      target_size=(244,244),\n",
    "                                      color_mode='rgb',\n",
    "                                      class_mode=\"categorical\",\n",
    "                                      batch_size=4,\n",
    "                                      shuffle=False\n",
    "                                     )\n",
    "test = image_gen.flow_from_dataframe(dataframe= X_test,x_col=\"Images\", y_col=\"labels\",\n",
    "                                     target_size=(244,244),\n",
    "                                     color_mode='rgb',\n",
    "                                     class_mode=\"categorical\",\n",
    "                                     batch_size=4,\n",
    "                                     shuffle= False\n",
    "                                    )\n",
    "val = image_gen.flow_from_dataframe(dataframe= val_set,x_col=\"Images\", y_col=\"labels\",\n",
    "                                    target_size=(244,244),\n",
    "                                    color_mode= 'rgb',\n",
    "                                    class_mode=\"categorical\",\n",
    "                                    batch_size=4,\n",
    "                                    shuffle=False\n",
    "                                   )"
   ]
  },
  {
   "cell_type": "code",
   "execution_count": null,
   "id": "86ea5348-1006-4a38-b415-69f4fb87716d",
   "metadata": {},
   "outputs": [],
   "source": [
    "classes=list(train.class_indices.keys())\n",
    "print (classes)"
   ]
  },
  {
   "cell_type": "code",
   "execution_count": null,
   "id": "fc368e12-f298-4a5b-9a1b-ec3219070e63",
   "metadata": {},
   "outputs": [],
   "source": [
    "def show_hand_gesture(image_gen):\n",
    "    test_dict = test.class_indices\n",
    "    classes = list(test_dict.keys())\n",
    "    images, labels=next(image_gen)\n",
    "    plt.figure(figsize=(20,20))\n",
    "    length = len(labels)\n",
    "    if length<25:\n",
    "        r=length\n",
    "    else:\n",
    "        r=25\n",
    "    for i in range(r):\n",
    "        plt.subplot(5,5,i+1)\n",
    "        image=(images[i]+1)/2\n",
    "        plt.imshow(image)\n",
    "        index=np.argmax(labels[i])\n",
    "        class_name=classes[index]\n",
    "        plt.title(class_name, color=\"green\",fontsize=16)\n",
    "        plt.axis('off')\n",
    "    plt.show()"
   ]
  },
  {
   "cell_type": "code",
   "execution_count": null,
   "id": "d7c690d0-4627-4cde-8da7-2aa90d208c70",
   "metadata": {},
   "outputs": [],
   "source": [
    "show_hand_gesture(train)"
   ]
  },
  {
   "cell_type": "code",
   "execution_count": null,
   "id": "cd983a92-462c-4d7a-96fb-72851a0ea3f4",
   "metadata": {},
   "outputs": [],
   "source": [
    "model = keras.models.Sequential([\n",
    "    keras.layers.Conv2D(filters=128, kernel_size=(8, 8), strides=(3, 3), activation='relu', input_shape=(224, 224, 3)),\n",
    "    keras.layers.BatchNormalization(),\n",
    "\n",
    "    keras.layers.Conv2D(filters=256, kernel_size=(5, 5), strides=(1, 1), activation='relu', padding=\"same\"),\n",
    "    keras.layers.BatchNormalization(),\n",
    "    keras.layers.MaxPool2D(pool_size=(3, 3)),\n",
    "\n",
    "    keras.layers.Conv2D(filters=256, kernel_size=(3, 3), strides=(1, 1), activation='relu', padding=\"same\"),\n",
    "    keras.layers.BatchNormalization(),\n",
    "    keras.layers.Conv2D(filters=256, kernel_size=(1, 1), strides=(1, 1), activation='relu', padding=\"same\"),\n",
    "    keras.layers.BatchNormalization(),\n",
    "    keras.layers.Conv2D(filters=256, kernel_size=(1, 1), strides=(1, 1), activation='relu', padding=\"same\"),\n",
    "    keras.layers.BatchNormalization(),\n",
    "\n",
    "    keras.layers.Conv2D(filters=512, kernel_size=(3, 3), activation='relu', padding=\"same\"),\n",
    "    keras.layers.BatchNormalization(),\n",
    "    keras.layers.MaxPool2D(pool_size=(2, 2)),\n",
    "\n",
    "    keras.layers.Conv2D(filters=512, kernel_size=(3, 3), activation='relu', padding=\"same\"),\n",
    "    keras.layers.BatchNormalization(),\n",
    "\n",
    "    keras.layers.Conv2D(filters=512, kernel_size=(3, 3), activation='relu', padding=\"same\"),\n",
    "    keras.layers.BatchNormalization(),\n",
    "\n",
    "    keras.layers.MaxPool2D(pool_size=(2, 2)),\n",
    "\n",
    "    keras.layers.Conv2D(filters=512, kernel_size=(3, 3), activation='relu', padding=\"same\"),\n",
    "    keras.layers.BatchNormalization(),\n",
    "\n",
    "    keras.layers.MaxPool2D(pool_size=(2, 2)),\n",
    "\n",
    "    keras.layers.Flatten(),\n",
    "    keras.layers.Dense(1024, activation='relu'),\n",
    "    keras.layers.Dropout(0.5),\n",
    "    keras.layers.Dense(1024, activation='relu'),\n",
    "    keras.layers.Dropout(0.5),\n",
    "    keras.layers.Dense(10, activation='softmax')\n",
    "])\n",
    "\n",
    "model.compile(\n",
    "    loss='categorical_crossentropy',\n",
    "    optimizer=tf.optimizers.SGD(learning_rate=0.001),\n",
    "    metrics=['accuracy']\n",
    ")\n",
    "\n",
    "model.summary()"
   ]
  },
  {
   "cell_type": "code",
   "execution_count": null,
   "id": "7a5aa98f-7116-4d29-96b3-e3afa0a8173b",
   "metadata": {},
   "outputs": [],
   "source": [
    "from keras.utils import plot_model\n",
    "\n",
    "plot_model(model, to_file='model_plot.png', show_shapes=True, show_layer_names=True)"
   ]
  },
  {
   "cell_type": "code",
   "execution_count": null,
   "id": "3024bd48-1e27-4f0c-9027-d54edf785c08",
   "metadata": {},
   "outputs": [],
   "source": [
    "history = model.fit(train, epochs=3, validation_data=val, verbose=1)"
   ]
  },
  {
   "cell_type": "code",
   "execution_count": null,
   "id": "5b183038-1689-4055-ab65-86fcc40a4251",
   "metadata": {},
   "outputs": [],
   "source": [
    "model.evaluate(test, verbose=1)"
   ]
  },
  {
   "cell_type": "code",
   "execution_count": null,
   "id": "c8b0ad27-794b-47d6-a361-8aac694e49d6",
   "metadata": {},
   "outputs": [],
   "source": [
    "model.save(\"hand_gesture_Model.h5\")"
   ]
  },
  {
   "cell_type": "code",
   "execution_count": null,
   "id": "6a9515b4-1f67-4a64-bab9-c7fe4ff09ec0",
   "metadata": {},
   "outputs": [],
   "source": [
    "pred = model.predict(test)\n",
    "pred = np.argmax(pred, axis=1)\n",
    "\n",
    "labels = (train.class_indices)\n",
    "labels = dict((v,k) for k,v in labels.items())\n",
    "pred2 = [labels[k] for k in pred]"
   ]
  },
  {
   "cell_type": "code",
   "execution_count": null,
   "id": "a6fbbbf7-396e-49e0-9624-b87da51ddaa1",
   "metadata": {},
   "outputs": [],
   "source": [
    "plt.plot(history.history['accuracy'])\n",
    "plt.plot(history.history['val_accuracy'])\n",
    "plt.title('model accuracy')\n",
    "plt.ylabel('accuracy')\n",
    "plt.xlabel('epoch')\n",
    "plt.legend(['train', 'val'], loc='upper left')\n",
    "plt.show()\n"
   ]
  },
  {
   "cell_type": "code",
   "execution_count": null,
   "id": "0d268f20-a268-44dc-a4f2-ee9fa46ed787",
   "metadata": {},
   "outputs": [],
   "source": [
    "plt.plot(history.history['loss'])\n",
    "plt.plot(history.history['val_loss'])\n",
    "plt.title('model loss')\n",
    "plt.ylabel('loss')\n",
    "plt.xlabel('epoch')\n",
    "plt.legend(['train', 'val'], loc='upper left')\n",
    "plt.show()"
   ]
  },
  {
   "cell_type": "code",
   "execution_count": null,
   "id": "da1f2d04-4edd-453a-b51a-e5f618f52c8c",
   "metadata": {},
   "outputs": [],
   "source": [
    "from sklearn.metrics import confusion_matrix, accuracy_score, classification_report\n",
    "\n",
    "y_test = X_test.labels\n",
    "print(classification_report(y_test, pred2))\n",
    "print(\"Accuracy of the Model:\",\"{:.1f}%\".format(accuracy_score(y_test, pred2)*100))"
   ]
  },
  {
   "cell_type": "code",
   "execution_count": null,
   "id": "aae803c7-8e16-43d8-959f-fe4f9e1a72b7",
   "metadata": {},
   "outputs": [],
   "source": [
    "import matplotlib.pyplot as plt\n",
    "import seaborn as sns\n",
    "from sklearn.metrics import confusion_matrix\n",
    "\n",
    "class_labels = ['Palm', 'l', 'Fist', 'Fist_moved', 'Thumb', 'Index', 'Ok', 'Palm_moved', 'C', 'Down']\n",
    "\n",
    "cm = confusion_matrix(y_test, pred2)\n",
    "\n",
    "plt.figure(figsize=(10, 5))\n",
    "sns.heatmap(cm, annot=True, fmt='g', vmin=0, cmap='Blues')\n",
    "\n",
    "plt.xticks(ticks=[0.5, 1.5, 2.5, 3.5, 4.5, 5.5, 6.5, 7.5, 8.5, 9.5], labels=class_labels, rotation=25)\n",
    "plt.yticks(ticks=[0.5, 1.5, 2.5, 3.5, 4.5, 5.5, 6.5, 7.5, 8.5, 9.5], labels=class_labels, rotation=0)\n",
    "plt.xlabel(\"Predicted\")\n",
    "plt.ylabel(\"Actual\")\n",
    "\n",
    "plt.title(\"Confusion Matrix\")\n",
    "\n",
    "plt.show()"
   ]
  },
  {
   "cell_type": "code",
   "execution_count": null,
   "id": "db607328-ebc8-4878-a0e8-c2cda609f0d0",
   "metadata": {},
   "outputs": [],
   "source": []
  }
 ],
 "metadata": {
  "kernelspec": {
   "display_name": "Python 3 (ipykernel)",
   "language": "python",
   "name": "python3"
  },
  "language_info": {
   "codemirror_mode": {
    "name": "ipython",
    "version": 3
   },
   "file_extension": ".py",
   "mimetype": "text/x-python",
   "name": "python",
   "nbconvert_exporter": "python",
   "pygments_lexer": "ipython3",
   "version": "3.11.7"
  }
 },
 "nbformat": 4,
 "nbformat_minor": 5
}
